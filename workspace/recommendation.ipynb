{
 "cells": [
  {
   "cell_type": "markdown",
   "metadata": {},
   "source": [
    "# データの前処理"
   ]
  },
  {
   "cell_type": "code",
   "execution_count": 44,
   "metadata": {},
   "outputs": [
    {
     "name": "stdout",
     "output_type": "stream",
     "text": [
      "The autoreload extension is already loaded. To reload it, use:\n",
      "  %reload_ext autoreload\n"
     ]
    }
   ],
   "source": [
    "%load_ext autoreload\n",
    "%autoreload 2"
   ]
  },
  {
   "cell_type": "markdown",
   "metadata": {},
   "source": [
    "## import"
   ]
  },
  {
   "cell_type": "code",
   "execution_count": 45,
   "metadata": {},
   "outputs": [
    {
     "name": "stdout",
     "output_type": "stream",
     "text": [
      "tensorflow version is 2.3.0\n"
     ]
    }
   ],
   "source": [
    "import numpy as np\n",
    "import pandas as pd\n",
    "from sklearn import tree\n",
    "import matplotlib.pyplot as plt\n",
    "from mpl_toolkits.mplot3d import Axes3D\n",
    "from sklearn.manifold import TSNE\n",
    "from sklearn.cluster import KMeans\n",
    "from sklearn.decomposition import PCA\n",
    "from sklearn.linear_model import Ridge\n",
    "from sklearn.preprocessing import scale\n",
    "from sklearn.model_selection import train_test_split\n",
    "from sklearn.ensemble import RandomForestClassifier\n",
    "import tensorflow as tf\n",
    "import tensorflow.keras.layers as layers\n",
    "# tensorflowのversion\n",
    "print(\"tensorflow version is {}\".format(tf.__version__))"
   ]
  },
  {
   "cell_type": "code",
   "execution_count": 46,
   "metadata": {},
   "outputs": [],
   "source": [
    "np.random.seed(0)\n",
    "tf.random.set_seed(0)"
   ]
  },
  {
   "cell_type": "markdown",
   "metadata": {},
   "source": [
    "## データセットの生成"
   ]
  },
  {
   "cell_type": "code",
   "execution_count": 47,
   "metadata": {},
   "outputs": [],
   "source": [
    "from data_generator import DataGenerator\n",
    "inputfilename = \"./input/questionnaire_latest.csv\"\n",
    "dg = DataGenerator(inputfilename)\n",
    "dg.generate()\n",
    "# データセットへのアクセス\n",
    "#dg.df_static_info_binary   # 静的情報（バイナリベクトル）\n",
    "#dg.df_static_info_weight   # 静的情報（重み付きベクトル）\n",
    "#dg.df_dynamic_info         # 動的情報\n",
    "#dg.df_human_info           # 性格情報"
   ]
  },
  {
   "cell_type": "code",
   "execution_count": 103,
   "metadata": {},
   "outputs": [],
   "source": [
    "def split_label(df):\n",
    "    culm = len(df.iloc[0])-1\n",
    "    return df.iloc[:,:culm], df.iloc[:,culm]\n",
    "\n",
    "def dataset(dg, test_size=0.15):\n",
    "    # trainデータとtestデータに分ける\n",
    "    #train, test = train_test_split(dg, test_size=test_size)\n",
    "    calm = len(dg.iloc[:])\n",
    "    train = dg.iloc[:calm - 5].reset_index(drop=True)\n",
    "    test  = dg.iloc[calm - 5:].reset_index(drop=True)\n",
    "    \n",
    "    # 特徴量と正解ラベルを分ける\n",
    "    x_train, y_train = split_label(train)\n",
    "    x_test, y_test = split_label(test)\n",
    "    \n",
    "    print(x_train.shape)\n",
    "    # 標準化する\n",
    "    x_train = scale(x_train, axis=0)\n",
    "    x_test = scale(x_test, axis=0)\n",
    "    \n",
    "    # np.arrayに変換する\n",
    "    y_train = np.array(y_train.tolist())\n",
    "    y_test  = np.array(y_test.tolist())\n",
    "    \n",
    "    return x_train, y_train, x_test, y_test"
   ]
  },
  {
   "cell_type": "code",
   "execution_count": 104,
   "metadata": {},
   "outputs": [
    {
     "name": "stdout",
     "output_type": "stream",
     "text": [
      "(32, 8)\n"
     ]
    }
   ],
   "source": [
    "# 静的情報におけるバイナリベクトルのデータセット(今回は使わない)\n",
    "x_train_b, y_train_b, x_test_b, y_test_b = dataset(dg.df_static_info_binary)"
   ]
  },
  {
   "cell_type": "code",
   "execution_count": 105,
   "metadata": {},
   "outputs": [
    {
     "name": "stdout",
     "output_type": "stream",
     "text": [
      "(32, 8)\n"
     ]
    }
   ],
   "source": [
    "# 静的情報における重み付きベクトルのデータセット(今回はこれがメイン)\n",
    "x_train_w, y_train_w, x_test_w, y_test_w = dataset(dg.df_static_info_weight)"
   ]
  },
  {
   "cell_type": "code",
   "execution_count": 109,
   "metadata": {},
   "outputs": [
    {
     "name": "stdout",
     "output_type": "stream",
     "text": [
      "(32, 3)\n"
     ]
    }
   ],
   "source": [
    "# 動的情報に関するデータセット(短期トレンドモデルで用いる) \n",
    "x_train_d, y_train_d, x_test_d, y_test_d = dataset(dg.df_dynamic_info)"
   ]
  },
  {
   "cell_type": "markdown",
   "metadata": {},
   "source": [
    "# 遊びのレコメンドモデルの実装"
   ]
  },
  {
   "cell_type": "markdown",
   "metadata": {},
   "source": [
    "## リッジ回帰"
   ]
  },
  {
   "cell_type": "code",
   "execution_count": 122,
   "metadata": {},
   "outputs": [],
   "source": [
    "# 静的モデル\n",
    "ridge1 = Ridge().fit(x_train_w, y_train_w)\n",
    "x_train_pred = ridge1.predict(x_train_w)\n",
    "x_test_pred = ridge1.predict(x_test_w)"
   ]
  },
  {
   "cell_type": "code",
   "execution_count": 125,
   "metadata": {},
   "outputs": [],
   "source": [
    "# 動的モデル\n",
    "x_train_in = np.hstack((x_train_pred,x_train_d))\n",
    "x_test_in = np.hstack((x_test_pred,x_test_d))\n",
    "ridge2 = Ridge().fit(x_train_in, y_train_d)"
   ]
  },
  {
   "cell_type": "code",
   "execution_count": 127,
   "metadata": {},
   "outputs": [
    {
     "data": {
      "text/plain": [
       "array([[ 0.04581845, -0.03716064,  0.0083508 , -0.01278074,  0.60133874,\n",
       "         0.20793709,  0.18649631],\n",
       "       [ 0.06772429,  0.10950532,  0.04679773,  0.19147301,  0.26362887,\n",
       "         0.21793771,  0.10293307],\n",
       "       [-0.02557032,  0.21510031, -0.04029065,  0.22373448,  0.00087537,\n",
       "         0.46627505,  0.15987576],\n",
       "       [-0.03334623,  0.29478117,  0.12419913,  0.17581092,  0.13048832,\n",
       "         0.33628078, -0.02821411],\n",
       "       [ 0.10162381, -0.11347616,  0.01719299,  0.04676233,  0.56616869,\n",
       "         0.02156937,  0.36015897]])"
      ]
     },
     "execution_count": 127,
     "metadata": {},
     "output_type": "execute_result"
    }
   ],
   "source": [
    "ridge2.predict(x_test_in)"
   ]
  },
  {
   "cell_type": "code",
   "execution_count": 128,
   "metadata": {},
   "outputs": [
    {
     "data": {
      "text/plain": [
       "array([[0, 0, 0, 0, 0, 0, 1],\n",
       "       [0, 1, 0, 0, 0, 0, 0],\n",
       "       [0, 0, 1, 0, 0, 0, 0],\n",
       "       [0, 0, 0, 0, 0, 1, 0],\n",
       "       [0, 1, 0, 0, 0, 0, 0]])"
      ]
     },
     "execution_count": 128,
     "metadata": {},
     "output_type": "execute_result"
    }
   ],
   "source": [
    "y_test_d"
   ]
  },
  {
   "cell_type": "code",
   "execution_count": 129,
   "metadata": {},
   "outputs": [],
   "source": [
    "# 動的モデル\n",
    "x_train_in = x_train_pred\n",
    "x_test_in = x_test_pred\n",
    "ridge2 = Ridge().fit(x_train_in, y_train_d)"
   ]
  },
  {
   "cell_type": "code",
   "execution_count": 130,
   "metadata": {},
   "outputs": [
    {
     "data": {
      "text/plain": [
       "array([[ 0.11925246,  0.07179396, -0.01358847,  0.01757556,  0.68156016,\n",
       "         0.06944006,  0.05396626],\n",
       "       [ 0.02778961,  0.0370523 ,  0.07268236,  0.16799154,  0.23107451,\n",
       "         0.31235321,  0.15105646],\n",
       "       [-0.00357646,  0.18467095, -0.0132405 ,  0.18324037, -0.05153252,\n",
       "         0.55620508,  0.14423307],\n",
       "       [-0.10361902,  0.25669776,  0.05572317,  0.17210072, -0.0781993 ,\n",
       "         0.39681704,  0.30047962],\n",
       "       [ 0.1164034 , -0.08146497,  0.05467344,  0.08409181,  0.77959715,\n",
       "        -0.0848154 ,  0.13151458]])"
      ]
     },
     "execution_count": 130,
     "metadata": {},
     "output_type": "execute_result"
    }
   ],
   "source": [
    "ridge2.predict(x_test_in)"
   ]
  },
  {
   "cell_type": "code",
   "execution_count": 131,
   "metadata": {},
   "outputs": [
    {
     "data": {
      "text/plain": [
       "array([[0, 0, 0, 0, 0, 0, 1],\n",
       "       [0, 1, 0, 0, 0, 0, 0],\n",
       "       [0, 0, 1, 0, 0, 0, 0],\n",
       "       [0, 0, 0, 0, 0, 1, 0],\n",
       "       [0, 1, 0, 0, 0, 0, 0]])"
      ]
     },
     "execution_count": 131,
     "metadata": {},
     "output_type": "execute_result"
    }
   ],
   "source": [
    "y_test_d"
   ]
  },
  {
   "cell_type": "markdown",
   "metadata": {},
   "source": [
    "# 遊びに行くメンバーのレコメンドモデルの実装"
   ]
  },
  {
   "cell_type": "markdown",
   "metadata": {},
   "source": [
    "## T-SNE"
   ]
  },
  {
   "cell_type": "code",
   "execution_count": 107,
   "metadata": {},
   "outputs": [
    {
     "name": "stdout",
     "output_type": "stream",
     "text": [
      "(44, 2)\n"
     ]
    }
   ],
   "source": [
    "X = dg.df_human_info\n",
    "X = scale(X, axis=0)\n",
    "tsne = TSNE(n_components=2, perplexity=5,).fit_transform(X[:,[0,1,3,5]])\n",
    "print(tsne.shape)"
   ]
  },
  {
   "cell_type": "code",
   "execution_count": 108,
   "metadata": {},
   "outputs": [
    {
     "data": {
      "text/plain": [
       "<matplotlib.collections.PathCollection at 0x7f683ea6f860>"
      ]
     },
     "execution_count": 108,
     "metadata": {},
     "output_type": "execute_result"
    },
    {
     "data": {
      "image/png": "[encoded data removed]",
      "text/plain": [
       "<Figure size 432x288 with 1 Axes>"
      ]
     },
     "metadata": {
      "needs_background": "light"
     },
     "output_type": "display_data"
    }
   ],
   "source": [
    "plt.scatter(tsne[:,0],tsne[:,1])"
   ]
  },
  {
   "cell_type": "code",
   "execution_count": 9,
   "metadata": {},
   "outputs": [
    {
     "data": {
      "text/plain": [
       "<mpl_toolkits.mplot3d.art3d.Path3DCollection at 0x7f68446824e0>"
      ]
     },
     "execution_count": 9,
     "metadata": {},
     "output_type": "execute_result"
    },
    {
     "data": {
      "image/png": "[encoded data removed]",
      "text/plain": [
       "<Figure size 432x288 with 1 Axes>"
      ]
     },
     "metadata": {
      "needs_background": "light"
     },
     "output_type": "display_data"
    }
   ],
   "source": [
    "# 3D可視化\n",
    "fig = plt.figure()\n",
    "ax = fig.add_subplot(111, projection='3d')\n",
    "ax.scatter(xs=tsne[:,0], ys=tsne[:,1], zs=tsne[:,2], zdir='z', s=50, c=None, depthshade=True)"
   ]
  },
  {
   "cell_type": "markdown",
   "metadata": {},
   "source": [
    "## 主成分分析"
   ]
  },
  {
   "cell_type": "code",
   "execution_count": 10,
   "metadata": {},
   "outputs": [
    {
     "data": {
      "text/plain": [
       "0.7081007695172404"
      ]
     },
     "execution_count": 10,
     "metadata": {},
     "output_type": "execute_result"
    }
   ],
   "source": [
    "X = dg.df_human_info\n",
    "X = scale(X, axis=0)\n",
    "pca = PCA(n_components=3)\n",
    "pca.fit(X)\n",
    "x_pca = pca.transform(X)\n",
    "sum(pca.explained_variance_ratio_)"
   ]
  },
  {
   "cell_type": "code",
   "execution_count": 11,
   "metadata": {},
   "outputs": [
    {
     "data": {
      "text/plain": [
       "<matplotlib.collections.PathCollection at 0x7f68445c9518>"
      ]
     },
     "execution_count": 11,
     "metadata": {},
     "output_type": "execute_result"
    },
    {
     "data": {
      "image/png": "[encoded data removed]",
      "text/plain": [
       "<Figure size 432x288 with 1 Axes>"
      ]
     },
     "metadata": {
      "needs_background": "light"
     },
     "output_type": "display_data"
    }
   ],
   "source": [
    "plt.scatter(x_pca[:,1],x_pca[:,2])"
   ]
  },
  {
   "cell_type": "code",
   "execution_count": 12,
   "metadata": {},
   "outputs": [
    {
     "data": {
      "text/plain": [
       "<mpl_toolkits.mplot3d.art3d.Path3DCollection at 0x7f68445f7390>"
      ]
     },
     "execution_count": 12,
     "metadata": {},
     "output_type": "execute_result"
    },
    {
     "data": {
      "image/png": "[encoded data removed]",
      "text/plain": [
       "<Figure size 432x288 with 1 Axes>"
      ]
     },
     "metadata": {
      "needs_background": "light"
     },
     "output_type": "display_data"
    }
   ],
   "source": [
    "# 3D可視化\n",
    "fig = plt.figure()\n",
    "ax = fig.add_subplot(111, projection='3d')\n",
    "ax.scatter(xs=x_pca[:,0], ys=x_pca[:,1], zs=x_pca[:,2], zdir='z', s=50, c=None, depthshade=True)"
   ]
  },
  {
   "cell_type": "markdown",
   "metadata": {},
   "source": [
    "## k-means"
   ]
  },
  {
   "cell_type": "code",
   "execution_count": 27,
   "metadata": {},
   "outputs": [],
   "source": [
    "X = dg.df_human_info\n",
    "#X = scale(X, axis=0)"
   ]
  },
  {
   "cell_type": "code",
   "execution_count": 180,
   "metadata": {},
   "outputs": [
    {
     "name": "stderr",
     "output_type": "stream",
     "text": [
      "/usr/local/lib/python3.6/dist-packages/sklearn/cluster/_kmeans.py:934: FutureWarning: 'precompute_distances' was deprecated in version 0.23 and will be removed in 0.25. It has no effect\n",
      "  \"effect\", FutureWarning)\n",
      "/usr/local/lib/python3.6/dist-packages/sklearn/cluster/_kmeans.py:939: FutureWarning: 'n_jobs' was deprecated in version 0.23 and will be removed in 0.25.\n",
      "  \" removed in 0.25.\", FutureWarning)\n"
     ]
    },
    {
     "data": {
      "text/plain": [
       "KMeans(n_clusters=2, n_jobs=1, precompute_distances='auto')"
      ]
     },
     "execution_count": 180,
     "metadata": {},
     "output_type": "execute_result"
    }
   ],
   "source": [
    "kmeans = KMeans(n_clusters=2, init='k-means++', n_init=10, max_iter=300,\n",
    "         tol=0.0001,precompute_distances='auto', verbose=0,\n",
    "         random_state=None, copy_x=True, n_jobs=1)\n",
    "\n",
    "kmeans.fit(X)"
   ]
  },
  {
   "cell_type": "code",
   "execution_count": 181,
   "metadata": {},
   "outputs": [
    {
     "name": "stdout",
     "output_type": "stream",
     "text": [
      "[0 1 1 1 1 0 1 1 1 0 1 1 0 1 0 1 0 1 0 1 1 1 0 1 0 1 1 1 0 0 1 0 1 0 1 0 0\n",
      " 1 0 1 0 0 1 0]\n"
     ]
    }
   ],
   "source": [
    "print(kmeans.predict(X))\n",
    "results = pd.DataFrame({'classter': kmeans.predict(X)})"
   ]
  },
  {
   "cell_type": "code",
   "execution_count": 183,
   "metadata": {},
   "outputs": [],
   "source": [
    "df_classtor_stat = dg.df_human_info\n",
    "df_classtor_stat['label'] = results"
   ]
  },
  {
   "cell_type": "code",
   "execution_count": 184,
   "metadata": {},
   "outputs": [
    {
     "data": {
      "text/html": [
       "<div>\n",
       "<style scoped>\n",
       "    .dataframe tbody tr th:only-of-type {\n",
       "        vertical-align: middle;\n",
       "    }\n",
       "\n",
       "    .dataframe tbody tr th {\n",
       "        vertical-align: top;\n",
       "    }\n",
       "\n",
       "    .dataframe thead th {\n",
       "        text-align: right;\n",
       "    }\n",
       "</style>\n",
       "<table border=\"1\" class=\"dataframe\">\n",
       "  <thead>\n",
       "    <tr style=\"text-align: right;\">\n",
       "      <th></th>\n",
       "      <th>label</th>\n",
       "      <th>0</th>\n",
       "      <th>1</th>\n",
       "    </tr>\n",
       "  </thead>\n",
       "  <tbody>\n",
       "    <tr>\n",
       "      <th rowspan=\"4\" valign=\"top\">通常，自分から話を始めることはない</th>\n",
       "      <th>mean</th>\n",
       "      <td>1.578947</td>\n",
       "      <td>3.200000</td>\n",
       "    </tr>\n",
       "    <tr>\n",
       "      <th>median</th>\n",
       "      <td>2.000000</td>\n",
       "      <td>3.000000</td>\n",
       "    </tr>\n",
       "    <tr>\n",
       "      <th>var</th>\n",
       "      <td>0.923977</td>\n",
       "      <td>1.583333</td>\n",
       "    </tr>\n",
       "    <tr>\n",
       "      <th>std</th>\n",
       "      <td>0.961237</td>\n",
       "      <td>1.258306</td>\n",
       "    </tr>\n",
       "    <tr>\n",
       "      <th rowspan=\"4\" valign=\"top\">どちらかというと控えめで，静かな性格である</th>\n",
       "      <th>mean</th>\n",
       "      <td>2.263158</td>\n",
       "      <td>3.560000</td>\n",
       "    </tr>\n",
       "    <tr>\n",
       "      <th>median</th>\n",
       "      <td>2.000000</td>\n",
       "      <td>4.000000</td>\n",
       "    </tr>\n",
       "    <tr>\n",
       "      <th>var</th>\n",
       "      <td>2.093567</td>\n",
       "      <td>1.506667</td>\n",
       "    </tr>\n",
       "    <tr>\n",
       "      <th>std</th>\n",
       "      <td>1.446916</td>\n",
       "      <td>1.227464</td>\n",
       "    </tr>\n",
       "    <tr>\n",
       "      <th rowspan=\"4\" valign=\"top\">深く考えるより，すぐに行動したい</th>\n",
       "      <th>mean</th>\n",
       "      <td>2.947368</td>\n",
       "      <td>3.320000</td>\n",
       "    </tr>\n",
       "    <tr>\n",
       "      <th>median</th>\n",
       "      <td>3.000000</td>\n",
       "      <td>3.000000</td>\n",
       "    </tr>\n",
       "    <tr>\n",
       "      <th>var</th>\n",
       "      <td>1.719298</td>\n",
       "      <td>1.726667</td>\n",
       "    </tr>\n",
       "    <tr>\n",
       "      <th>std</th>\n",
       "      <td>1.311220</td>\n",
       "      <td>1.314027</td>\n",
       "    </tr>\n",
       "    <tr>\n",
       "      <th rowspan=\"4\" valign=\"top\">リーダーとして皆を引っ張っていきたい</th>\n",
       "      <th>mean</th>\n",
       "      <td>2.526316</td>\n",
       "      <td>1.320000</td>\n",
       "    </tr>\n",
       "    <tr>\n",
       "      <th>median</th>\n",
       "      <td>2.000000</td>\n",
       "      <td>1.000000</td>\n",
       "    </tr>\n",
       "    <tr>\n",
       "      <th>var</th>\n",
       "      <td>2.040936</td>\n",
       "      <td>1.976667</td>\n",
       "    </tr>\n",
       "    <tr>\n",
       "      <th>std</th>\n",
       "      <td>1.428613</td>\n",
       "      <td>1.405940</td>\n",
       "    </tr>\n",
       "    <tr>\n",
       "      <th rowspan=\"4\" valign=\"top\">近くでイベントがあれば参加するほうだ</th>\n",
       "      <th>mean</th>\n",
       "      <td>2.894737</td>\n",
       "      <td>1.960000</td>\n",
       "    </tr>\n",
       "    <tr>\n",
       "      <th>median</th>\n",
       "      <td>3.000000</td>\n",
       "      <td>2.000000</td>\n",
       "    </tr>\n",
       "    <tr>\n",
       "      <th>var</th>\n",
       "      <td>0.988304</td>\n",
       "      <td>1.123333</td>\n",
       "    </tr>\n",
       "    <tr>\n",
       "      <th>std</th>\n",
       "      <td>0.994135</td>\n",
       "      <td>1.059874</td>\n",
       "    </tr>\n",
       "    <tr>\n",
       "      <th rowspan=\"4\" valign=\"top\">どちらかというと，開放的で，陽気なタイプだと思う</th>\n",
       "      <th>mean</th>\n",
       "      <td>3.000000</td>\n",
       "      <td>1.160000</td>\n",
       "    </tr>\n",
       "    <tr>\n",
       "      <th>median</th>\n",
       "      <td>3.000000</td>\n",
       "      <td>1.000000</td>\n",
       "    </tr>\n",
       "    <tr>\n",
       "      <th>var</th>\n",
       "      <td>0.666667</td>\n",
       "      <td>1.140000</td>\n",
       "    </tr>\n",
       "    <tr>\n",
       "      <th>std</th>\n",
       "      <td>0.816497</td>\n",
       "      <td>1.067708</td>\n",
       "    </tr>\n",
       "  </tbody>\n",
       "</table>\n",
       "</div>"
      ],
      "text/plain": [
       "label                                   0         1\n",
       "通常，自分から話を始めることはない        mean    1.578947  3.200000\n",
       "                         median  2.000000  3.000000\n",
       "                         var     0.923977  1.583333\n",
       "                         std     0.961237  1.258306\n",
       "どちらかというと控えめで，静かな性格である    mean    2.263158  3.560000\n",
       "                         median  2.000000  4.000000\n",
       "                         var     2.093567  1.506667\n",
       "                         std     1.446916  1.227464\n",
       "深く考えるより，すぐに行動したい         mean    2.947368  3.320000\n",
       "                         median  3.000000  3.000000\n",
       "                         var     1.719298  1.726667\n",
       "                         std     1.311220  1.314027\n",
       "リーダーとして皆を引っ張っていきたい       mean    2.526316  1.320000\n",
       "                         median  2.000000  1.000000\n",
       "                         var     2.040936  1.976667\n",
       "                         std     1.428613  1.405940\n",
       "近くでイベントがあれば参加するほうだ       mean    2.894737  1.960000\n",
       "                         median  3.000000  2.000000\n",
       "                         var     0.988304  1.123333\n",
       "                         std     0.994135  1.059874\n",
       "どちらかというと，開放的で，陽気なタイプだと思う mean    3.000000  1.160000\n",
       "                         median  3.000000  1.000000\n",
       "                         var     0.666667  1.140000\n",
       "                         std     0.816497  1.067708"
      ]
     },
     "execution_count": 184,
     "metadata": {},
     "output_type": "execute_result"
    }
   ],
   "source": [
    "df_classtor_stat.groupby('label').agg([np.mean, np.median, np.var, np.std]).T"
   ]
  },
  {
   "cell_type": "code",
   "execution_count": 109,
   "metadata": {},
   "outputs": [
    {
     "ename": "AttributeError",
     "evalue": "'numpy.ndarray' object has no attribute 'iloc'",
     "output_type": "error",
     "traceback": [
      "\u001b[0;31m---------------------------------------------------------------------------\u001b[0m",
      "\u001b[0;31mAttributeError\u001b[0m                            Traceback (most recent call last)",
      "\u001b[0;32m<ipython-input-109-30dcd87e2214>\u001b[0m in \u001b[0;36m<module>\u001b[0;34m\u001b[0m\n\u001b[1;32m      1\u001b[0m \u001b[0mplt\u001b[0m\u001b[0;34m.\u001b[0m\u001b[0mfigure\u001b[0m\u001b[0;34m(\u001b[0m\u001b[0;34m)\u001b[0m\u001b[0;34m\u001b[0m\u001b[0;34m\u001b[0m\u001b[0m\n\u001b[1;32m      2\u001b[0m \u001b[0mplt\u001b[0m\u001b[0;34m.\u001b[0m\u001b[0mhlines\u001b[0m\u001b[0;34m(\u001b[0m\u001b[0;36m0.95\u001b[0m\u001b[0;34m,\u001b[0m\u001b[0;36m0\u001b[0m\u001b[0;34m,\u001b[0m\u001b[0;36m4\u001b[0m\u001b[0;34m)\u001b[0m  \u001b[0;31m# Draw a horizontal line\u001b[0m\u001b[0;34m\u001b[0m\u001b[0;34m\u001b[0m\u001b[0m\n\u001b[0;32m----> 3\u001b[0;31m \u001b[0mplt\u001b[0m\u001b[0;34m.\u001b[0m\u001b[0meventplot\u001b[0m\u001b[0;34m(\u001b[0m\u001b[0mX\u001b[0m\u001b[0;34m.\u001b[0m\u001b[0miloc\u001b[0m\u001b[0;34m[\u001b[0m\u001b[0;34m:\u001b[0m\u001b[0;34m,\u001b[0m\u001b[0;36m5\u001b[0m\u001b[0;34m]\u001b[0m\u001b[0;34m,\u001b[0m \u001b[0morientation\u001b[0m\u001b[0;34m=\u001b[0m\u001b[0;34m'horizontal'\u001b[0m\u001b[0;34m,\u001b[0m \u001b[0mcolors\u001b[0m\u001b[0;34m=\u001b[0m\u001b[0;34m'b'\u001b[0m\u001b[0;34m)\u001b[0m\u001b[0;34m\u001b[0m\u001b[0;34m\u001b[0m\u001b[0m\n\u001b[0m\u001b[1;32m      4\u001b[0m \u001b[0mplt\u001b[0m\u001b[0;34m.\u001b[0m\u001b[0maxis\u001b[0m\u001b[0;34m(\u001b[0m\u001b[0;34m'off'\u001b[0m\u001b[0;34m)\u001b[0m\u001b[0;34m\u001b[0m\u001b[0;34m\u001b[0m\u001b[0m\n\u001b[1;32m      5\u001b[0m \u001b[0mplt\u001b[0m\u001b[0;34m.\u001b[0m\u001b[0mshow\u001b[0m\u001b[0;34m(\u001b[0m\u001b[0;34m)\u001b[0m\u001b[0;34m\u001b[0m\u001b[0;34m\u001b[0m\u001b[0m\n",
      "\u001b[0;31mAttributeError\u001b[0m: 'numpy.ndarray' object has no attribute 'iloc'"
     ]
    },
    {
     "data": {
      "image/png": "[encoded data removed]",
      "text/plain": [
       "<Figure size 432x288 with 1 Axes>"
      ]
     },
     "metadata": {
      "needs_background": "light"
     },
     "output_type": "display_data"
    }
   ],
   "source": [
    "plt.figure()\n",
    "plt.hlines(0.95,0,4)  # Draw a horizontal line\n",
    "plt.eventplot(X.iloc[:,5], orientation='horizontal', colors='b')\n",
    "plt.axis('off')\n",
    "plt.show()"
   ]
  },
  {
   "cell_type": "code",
   "execution_count": 44,
   "metadata": {},
   "outputs": [
    {
     "data": {
      "text/html": [
       "<div>\n",
       "<style scoped>\n",
       "    .dataframe tbody tr th:only-of-type {\n",
       "        vertical-align: middle;\n",
       "    }\n",
       "\n",
       "    .dataframe tbody tr th {\n",
       "        vertical-align: top;\n",
       "    }\n",
       "\n",
       "    .dataframe thead th {\n",
       "        text-align: right;\n",
       "    }\n",
       "</style>\n",
       "<table border=\"1\" class=\"dataframe\">\n",
       "  <thead>\n",
       "    <tr style=\"text-align: right;\">\n",
       "      <th></th>\n",
       "      <th>通常，自分から話を始めることはない</th>\n",
       "      <th>どちらかというと控えめで，静かな性格である</th>\n",
       "      <th>深く考えるより，すぐに行動したい</th>\n",
       "      <th>リーダーとして皆を引っ張っていきたい</th>\n",
       "      <th>近くでイベントがあれば参加するほうだ</th>\n",
       "    </tr>\n",
       "    <tr>\n",
       "      <th>どちらかというと，開放的で，陽気なタイプだと思う</th>\n",
       "      <th></th>\n",
       "      <th></th>\n",
       "      <th></th>\n",
       "      <th></th>\n",
       "      <th></th>\n",
       "    </tr>\n",
       "  </thead>\n",
       "  <tbody>\n",
       "    <tr>\n",
       "      <th>0</th>\n",
       "      <td>9</td>\n",
       "      <td>9</td>\n",
       "      <td>9</td>\n",
       "      <td>9</td>\n",
       "      <td>9</td>\n",
       "    </tr>\n",
       "    <tr>\n",
       "      <th>1</th>\n",
       "      <td>6</td>\n",
       "      <td>6</td>\n",
       "      <td>6</td>\n",
       "      <td>6</td>\n",
       "      <td>6</td>\n",
       "    </tr>\n",
       "    <tr>\n",
       "      <th>2</th>\n",
       "      <td>13</td>\n",
       "      <td>13</td>\n",
       "      <td>13</td>\n",
       "      <td>13</td>\n",
       "      <td>13</td>\n",
       "    </tr>\n",
       "    <tr>\n",
       "      <th>3</th>\n",
       "      <td>10</td>\n",
       "      <td>10</td>\n",
       "      <td>10</td>\n",
       "      <td>10</td>\n",
       "      <td>10</td>\n",
       "    </tr>\n",
       "    <tr>\n",
       "      <th>4</th>\n",
       "      <td>6</td>\n",
       "      <td>6</td>\n",
       "      <td>6</td>\n",
       "      <td>6</td>\n",
       "      <td>6</td>\n",
       "    </tr>\n",
       "  </tbody>\n",
       "</table>\n",
       "</div>"
      ],
      "text/plain": [
       "                          通常，自分から話を始めることはない  どちらかというと控えめで，静かな性格である  \\\n",
       "どちらかというと，開放的で，陽気なタイプだと思う                                             \n",
       "0                                         9                      9   \n",
       "1                                         6                      6   \n",
       "2                                        13                     13   \n",
       "3                                        10                     10   \n",
       "4                                         6                      6   \n",
       "\n",
       "                          深く考えるより，すぐに行動したい  リーダーとして皆を引っ張っていきたい  \\\n",
       "どちらかというと，開放的で，陽気なタイプだと思う                                         \n",
       "0                                        9                   9   \n",
       "1                                        6                   6   \n",
       "2                                       13                  13   \n",
       "3                                       10                  10   \n",
       "4                                        6                   6   \n",
       "\n",
       "                          近くでイベントがあれば参加するほうだ  \n",
       "どちらかというと，開放的で，陽気なタイプだと思う                      \n",
       "0                                          9  \n",
       "1                                          6  \n",
       "2                                         13  \n",
       "3                                         10  \n",
       "4                                          6  "
      ]
     },
     "execution_count": 44,
     "metadata": {},
     "output_type": "execute_result"
    }
   ],
   "source": [
    "X.groupby('どちらかというと，開放的で，陽気なタイプだと思う').count()"
   ]
  },
  {
   "cell_type": "code",
   "execution_count": 26,
   "metadata": {},
   "outputs": [
    {
     "data": {
      "text/plain": [
       "<matplotlib.collections.PathCollection at 0x7f684412c978>"
      ]
     },
     "execution_count": 26,
     "metadata": {},
     "output_type": "execute_result"
    },
    {
     "data": {
      "image/png": "[encoded data removed]",
      "text/plain": [
       "<Figure size 432x288 with 1 Axes>"
      ]
     },
     "metadata": {
      "needs_background": "light"
     },
     "output_type": "display_data"
    }
   ],
   "source": [
    "plt.scatter(X.iloc[:,5],X.iloc[:,5])"
   ]
  },
  {
   "cell_type": "markdown",
   "metadata": {},
   "source": [
    "# 不採択になったモデル"
   ]
  },
  {
   "cell_type": "markdown",
   "metadata": {},
   "source": [
    "## MLP"
   ]
  },
  {
   "cell_type": "markdown",
   "metadata": {},
   "source": [
    "### モデルの実装"
   ]
  },
  {
   "cell_type": "code",
   "execution_count": 25,
   "metadata": {},
   "outputs": [
    {
     "name": "stdout",
     "output_type": "stream",
     "text": [
      "Epoch 1/20\n",
      "10/10 [==============================] - 0s 15ms/step - loss: 0.1748 - mean_squared_error: 0.1740 - val_loss: 0.1617 - val_mean_squared_error: 0.1637\n",
      "Epoch 2/20\n",
      "10/10 [==============================] - 0s 4ms/step - loss: 0.1730 - mean_squared_error: 0.1730 - val_loss: 0.1600 - val_mean_squared_error: 0.1620\n",
      "Epoch 3/20\n",
      "10/10 [==============================] - 0s 4ms/step - loss: 0.1713 - mean_squared_error: 0.1722 - val_loss: 0.1583 - val_mean_squared_error: 0.1603\n",
      "Epoch 4/20\n",
      "10/10 [==============================] - 0s 4ms/step - loss: 0.1696 - mean_squared_error: 0.1692 - val_loss: 0.1566 - val_mean_squared_error: 0.1585\n",
      "Epoch 5/20\n",
      "10/10 [==============================] - 0s 4ms/step - loss: 0.1679 - mean_squared_error: 0.1677 - val_loss: 0.1550 - val_mean_squared_error: 0.1569\n",
      "Epoch 6/20\n",
      "10/10 [==============================] - 0s 4ms/step - loss: 0.1663 - mean_squared_error: 0.1664 - val_loss: 0.1535 - val_mean_squared_error: 0.1553\n",
      "Epoch 7/20\n",
      "10/10 [==============================] - 0s 4ms/step - loss: 0.1648 - mean_squared_error: 0.1642 - val_loss: 0.1519 - val_mean_squared_error: 0.1537\n",
      "Epoch 8/20\n",
      "10/10 [==============================] - 0s 4ms/step - loss: 0.1633 - mean_squared_error: 0.1633 - val_loss: 0.1504 - val_mean_squared_error: 0.1521\n",
      "Epoch 9/20\n",
      "10/10 [==============================] - 0s 4ms/step - loss: 0.1617 - mean_squared_error: 0.1616 - val_loss: 0.1490 - val_mean_squared_error: 0.1506\n",
      "Epoch 10/20\n",
      "10/10 [==============================] - 0s 4ms/step - loss: 0.1603 - mean_squared_error: 0.1606 - val_loss: 0.1476 - val_mean_squared_error: 0.1492\n",
      "Epoch 11/20\n",
      "10/10 [==============================] - 0s 4ms/step - loss: 0.1589 - mean_squared_error: 0.1584 - val_loss: 0.1462 - val_mean_squared_error: 0.1478\n",
      "Epoch 12/20\n",
      "10/10 [==============================] - 0s 4ms/step - loss: 0.1575 - mean_squared_error: 0.1576 - val_loss: 0.1448 - val_mean_squared_error: 0.1464\n",
      "Epoch 13/20\n",
      "10/10 [==============================] - 0s 4ms/step - loss: 0.1561 - mean_squared_error: 0.1561 - val_loss: 0.1435 - val_mean_squared_error: 0.1451\n",
      "Epoch 14/20\n",
      "10/10 [==============================] - 0s 4ms/step - loss: 0.1548 - mean_squared_error: 0.1555 - val_loss: 0.1423 - val_mean_squared_error: 0.1438\n",
      "Epoch 15/20\n",
      "10/10 [==============================] - 0s 4ms/step - loss: 0.1536 - mean_squared_error: 0.1540 - val_loss: 0.1410 - val_mean_squared_error: 0.1425\n",
      "Epoch 16/20\n",
      "10/10 [==============================] - 0s 4ms/step - loss: 0.1523 - mean_squared_error: 0.1521 - val_loss: 0.1398 - val_mean_squared_error: 0.1413\n",
      "Epoch 17/20\n",
      "10/10 [==============================] - 0s 4ms/step - loss: 0.1511 - mean_squared_error: 0.1509 - val_loss: 0.1387 - val_mean_squared_error: 0.1402\n",
      "Epoch 18/20\n",
      "10/10 [==============================] - 0s 4ms/step - loss: 0.1499 - mean_squared_error: 0.1498 - val_loss: 0.1375 - val_mean_squared_error: 0.1389\n",
      "Epoch 19/20\n",
      "10/10 [==============================] - 0s 4ms/step - loss: 0.1487 - mean_squared_error: 0.1494 - val_loss: 0.1364 - val_mean_squared_error: 0.1378\n",
      "Epoch 20/20\n",
      "10/10 [==============================] - 0s 4ms/step - loss: 0.1477 - mean_squared_error: 0.1473 - val_loss: 0.1354 - val_mean_squared_error: 0.1368\n",
      "2/2 [==============================] - 0s 2ms/step - loss: 0.1354 - mean_squared_error: 0.1368\n"
     ]
    }
   ],
   "source": [
    "def create_model():\n",
    "    inputs = layers.Input((8,))\n",
    "    x = layers.Dense(2, activation=\"sigmoid\")(inputs)\n",
    "    x = layers.Dense(8, activation=\"sigmoid\")(x)\n",
    "    return tf.keras.models.Model(inputs=inputs, outputs=x)\n",
    "\n",
    "def main():    \n",
    "    model = create_model()\n",
    "    loss = tf.keras.losses.MeanSquaredError()\n",
    "    acc = tf.keras.losses.MeanSquaredError()\n",
    "    optim = tf.keras.optimizers.Adam()\n",
    "\n",
    "    # train\n",
    "    model.compile(optimizer=optim, loss=loss, metrics=[acc])\n",
    "    model.fit(x_train_w, y_train_w, validation_data=(x_test_w, y_test_w), epochs=20, batch_size=4)\n",
    "\n",
    "    # eval\n",
    "    val_loss, val_acc = model.evaluate(x_test_w, y_test_w, batch_size=4)\n",
    "    \n",
    "    return model \n",
    "\n",
    "if __name__ == \"__main__\":\n",
    "    model = main()"
   ]
  },
  {
   "cell_type": "markdown",
   "metadata": {},
   "source": [
    "### 結果の確認"
   ]
  },
  {
   "cell_type": "code",
   "execution_count": 26,
   "metadata": {},
   "outputs": [],
   "source": [
    "raw = 0"
   ]
  },
  {
   "cell_type": "code",
   "execution_count": 27,
   "metadata": {},
   "outputs": [
    {
     "name": "stdout",
     "output_type": "stream",
     "text": [
      "[[0.33778268 0.506331   0.48925483 0.4798966  0.28250325 0.47609758\n",
      "  0.4129015  0.35314476]]\n"
     ]
    }
   ],
   "source": [
    "print(model.predict(x_test_w[raw:raw+1,:]))"
   ]
  },
  {
   "cell_type": "code",
   "execution_count": 28,
   "metadata": {},
   "outputs": [
    {
     "name": "stdout",
     "output_type": "stream",
     "text": [
      "[0.  0.  0.4 0.  0.  0.7 1.  0. ]\n"
     ]
    }
   ],
   "source": [
    "print(y_test_w[raw,:])"
   ]
  },
  {
   "cell_type": "markdown",
   "metadata": {},
   "source": [
    "## ランダムフォレスト"
   ]
  },
  {
   "cell_type": "code",
   "execution_count": 7,
   "metadata": {},
   "outputs": [],
   "source": [
    "clf = RandomForestClassifier(max_depth=5, random_state=0)"
   ]
  },
  {
   "cell_type": "code",
   "execution_count": 8,
   "metadata": {},
   "outputs": [
    {
     "data": {
      "text/plain": [
       "RandomForestClassifier(max_depth=5, random_state=0)"
      ]
     },
     "execution_count": 8,
     "metadata": {},
     "output_type": "execute_result"
    }
   ],
   "source": [
    "# original\n",
    "clf.fit(x_train,y_train)\n",
    "\n",
    "# pca\n",
    "#clf.fit(x_train_pca,y_train)"
   ]
  },
  {
   "cell_type": "code",
   "execution_count": 9,
   "metadata": {},
   "outputs": [
    {
     "name": "stdout",
     "output_type": "stream",
     "text": [
      "[0.03545779 0.03583479 0.07081688 0.07663516 0.07443875 0.07018595\n",
      " 0.1078693  0.0668443  0.0823463  0.05600769 0.08187283 0.07853895\n",
      " 0.08160876 0.08154253]\n"
     ]
    }
   ],
   "source": [
    "print(clf.feature_importances_)"
   ]
  },
  {
   "cell_type": "code",
   "execution_count": 10,
   "metadata": {},
   "outputs": [
    {
     "data": {
      "text/plain": [
       "0.13333333333333333"
      ]
     },
     "execution_count": 10,
     "metadata": {},
     "output_type": "execute_result"
    }
   ],
   "source": [
    "# original\n",
    "clf.score(x_test,y_test)\n",
    "\n",
    "# pca\n",
    "#clf.score(x_test_pca,y_test)"
   ]
  },
  {
   "cell_type": "code",
   "execution_count": null,
   "metadata": {},
   "outputs": [],
   "source": []
  }
 ],
 "metadata": {
  "kernelspec": {
   "display_name": "Python 3",
   "language": "python",
   "name": "python3"
  },
  "language_info": {
   "codemirror_mode": {
    "name": "ipython",
    "version": 3
   },
   "file_extension": ".py",
   "mimetype": "text/x-python",
   "name": "python",
   "nbconvert_exporter": "python",
   "pygments_lexer": "ipython3",
   "version": "3.6.9"
  },
  "toc-autonumbering": true
 },
 "nbformat": 4,
 "nbformat_minor": 4
}
