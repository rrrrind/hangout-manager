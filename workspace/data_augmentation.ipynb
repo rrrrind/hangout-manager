{
 "cells": [
  {
   "cell_type": "markdown",
   "metadata": {},
   "source": [
    "# Data Augmentation (データ拡張)"
   ]
  },
  {
   "cell_type": "markdown",
   "metadata": {},
   "source": [
    "教師データが足りないので，データ拡張を取り入れることで，教師データの数を水増しする．  \n",
    "調べてみた感じ，  \n",
    "- テーブルデータ（構造化データ）はSMOTEが便利\n",
    "- mixupが注目を浴びている\n",
    "\n",
    "という事がわかった．  \n",
    "そこで今回はmixupを使う事でアンケート結果のデータ拡張を行っていくこととする．"
   ]
  },
  {
   "cell_type": "markdown",
   "metadata": {},
   "source": [
    "# 参考文献"
   ]
  },
  {
   "cell_type": "markdown",
   "metadata": {},
   "source": [
    "- [データが足りないなら増やせば良いじゃない。](https://qiita.com/cvusk/items/aa628e84e72cdf0a6e77)\n",
    "- [[Data Augmentation 第1回] mixup 事始め](http://wazalabo.com/mixup_1.html)\n",
    "- [FocalMix: Semi-Supervised Learning for 3D Medical Image Detection](https://openaccess.thecvf.com/content_CVPR_2020/papers/Wang_FocalMix_Semi-Supervised_Learning_for_3D_Medical_Image_Detection_CVPR_2020_paper.pdf)"
   ]
  },
  {
   "cell_type": "code",
   "execution_count": null,
   "metadata": {},
   "outputs": [],
   "source": []
  }
 ],
 "metadata": {
  "kernelspec": {
   "display_name": "Python 3",
   "language": "python",
   "name": "python3"
  },
  "language_info": {
   "codemirror_mode": {
    "name": "ipython",
    "version": 3
   },
   "file_extension": ".py",
   "mimetype": "text/x-python",
   "name": "python",
   "nbconvert_exporter": "python",
   "pygments_lexer": "ipython3",
   "version": "3.6.9"
  }
 },
 "nbformat": 4,
 "nbformat_minor": 4
}
