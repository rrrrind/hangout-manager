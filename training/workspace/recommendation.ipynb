{
 "cells": [
  {
   "cell_type": "markdown",
   "metadata": {},
   "source": [
    "# データの前処理"
   ]
  },
  {
   "cell_type": "code",
   "execution_count": 1,
   "metadata": {},
   "outputs": [],
   "source": [
    "%load_ext autoreload\n",
    "%autoreload 2"
   ]
  },
  {
   "cell_type": "markdown",
   "metadata": {},
   "source": [
    "## import"
   ]
  },
  {
   "cell_type": "code",
   "execution_count": 2,
   "metadata": {},
   "outputs": [
    {
     "name": "stdout",
     "output_type": "stream",
     "text": [
      "tensorflow version is 2.3.0\n"
     ]
    }
   ],
   "source": [
    "import pickle\n",
    "import numpy as np\n",
    "import pandas as pd\n",
    "from sklearn import tree\n",
    "import matplotlib.pyplot as plt\n",
    "from scipy.stats import rankdata\n",
    "from mpl_toolkits.mplot3d import Axes3D\n",
    "from sklearn.manifold import TSNE\n",
    "from sklearn.cluster import KMeans\n",
    "from sklearn.decomposition import PCA\n",
    "from sklearn.linear_model import Ridge\n",
    "from sklearn.preprocessing import scale\n",
    "from sklearn.model_selection import KFold\n",
    "from sklearn.preprocessing import MinMaxScaler\n",
    "from sklearn.linear_model import RidgeClassifier\n",
    "from sklearn.multiclass import OneVsRestClassifier\n",
    "from sklearn.model_selection import train_test_split\n",
    "from sklearn.metrics.pairwise import cosine_similarity\n",
    "from sklearn.ensemble import RandomForestClassifier\n",
    "from sklearn.model_selection import cross_val_score\n",
    "import tensorflow as tf\n",
    "import tensorflow.keras.layers as layers\n",
    "# tensorflowのversion\n",
    "print(\"tensorflow version is {}\".format(tf.__version__))"
   ]
  },
  {
   "cell_type": "code",
   "execution_count": 3,
   "metadata": {},
   "outputs": [],
   "source": [
    "np.random.seed(1)\n",
    "tf.random.set_seed(1)"
   ]
  },
  {
   "cell_type": "markdown",
   "metadata": {},
   "source": [
    "## データセットの生成"
   ]
  },
  {
   "cell_type": "code",
   "execution_count": 4,
   "metadata": {},
   "outputs": [
    {
     "name": "stderr",
     "output_type": "stream",
     "text": [
      "/usr/local/lib/python3.6/dist-packages/pandas/core/indexing.py:1745: SettingWithCopyWarning: \n",
      "A value is trying to be set on a copy of a slice from a DataFrame.\n",
      "Try using .loc[row_indexer,col_indexer] = value instead\n",
      "\n",
      "See the caveats in the documentation: https://pandas.pydata.org/pandas-docs/stable/user_guide/indexing.html#returning-a-view-versus-a-copy\n",
      "  isetter(ilocs[0], value)\n"
     ]
    }
   ],
   "source": [
    "from lib.data_generator import DataGenerator\n",
    "inputfilename = \"./questionnaire/questionnaire_latest.csv\"\n",
    "dg = DataGenerator(inputfilename)\n",
    "dg.generate()\n",
    "# データセットへのアクセス\n",
    "#dg.df_static_info_binary   # 静的情報（バイナリベクトル）\n",
    "#dg.df_static_info_weight   # 静的情報（重み付きベクトル）\n",
    "#dg.df_dynamic_info         # 動的情報\n",
    "#dg.df_human_info           # 性格情報"
   ]
  },
  {
   "cell_type": "code",
   "execution_count": 5,
   "metadata": {},
   "outputs": [],
   "source": [
    "def split_label(df):\n",
    "    culm = len(df.iloc[0])-1\n",
    "    return df.iloc[:,:culm], df.iloc[:,culm]\n",
    "\n",
    "def dataset(dg):\n",
    "    # trainデータとtestデータに分ける\n",
    "    #train, test = train_test_split(dg, test_size=test_size)\n",
    "    calm = len(dg.iloc[:])\n",
    "    train = dg.iloc[:calm - 1].reset_index(drop=True)\n",
    "    test  = dg.iloc[calm - 1:].reset_index(drop=True)\n",
    "    \n",
    "    # 特徴量と正解ラベルを分ける\n",
    "    x_train, y_train = split_label(train)\n",
    "    x_test, y_test = split_label(test)\n",
    "    \n",
    "    # 標準化する\n",
    "    x_train = x_train.values\n",
    "    x_test  = x_test.values\n",
    "    #x_train = scale(x_train, axis=0)\n",
    "    #x_test = scale(x_test, axis=0)\n",
    "    \n",
    "    # np.arrayに変換する\n",
    "    y_train = np.array(y_train.tolist())\n",
    "    y_test  = np.array(y_test.tolist())\n",
    "    \n",
    "    return x_train, y_train, x_test, y_test\n"
   ]
  },
  {
   "cell_type": "code",
   "execution_count": 6,
   "metadata": {},
   "outputs": [],
   "source": [
    "# 静的情報におけるバイナリベクトルのデータセット(今回は使わない)\n",
    "x_train_b, y_train_b, x_test_b, y_test_b = dataset(dg.df_static_info_binary)\n",
    "#y_train_b = np.where(y_train_b != 0, 1, 0)\n",
    "#y_test_b  = np.where(y_test_b != 0, 1, 0)"
   ]
  },
  {
   "cell_type": "code",
   "execution_count": 7,
   "metadata": {},
   "outputs": [],
   "source": [
    "# 静的情報における重み付きベクトルのデータセット(今回はこれがメイン)\n",
    "x_train_w, y_train_w, x_test_w, y_test_w = dataset(dg.df_static_info_weight)"
   ]
  },
  {
   "cell_type": "code",
   "execution_count": 8,
   "metadata": {},
   "outputs": [],
   "source": [
    "# 動的情報に関するデータセット(短期トレンドモデルで用いる) \n",
    "x_train_d, y_train_din, x_test_d, y_test_din = dataset(dg.df_dynamic_info)"
   ]
  },
  {
   "cell_type": "markdown",
   "metadata": {},
   "source": [
    "# 遊びレコメンドモデルの学習"
   ]
  },
  {
   "cell_type": "markdown",
   "metadata": {},
   "source": [
    "## リッジ回帰"
   ]
  },
  {
   "cell_type": "code",
   "execution_count": 11,
   "metadata": {},
   "outputs": [],
   "source": [
    "# 静的モデル\n",
    "ridge_static = Ridge().fit(x_train_w, y_train_w)\n",
    "x_train_pred = ridge_static.predict(x_train_w)\n",
    "x_test_pred = ridge_static.predict(x_test_w)"
   ]
  },
  {
   "cell_type": "code",
   "execution_count": 12,
   "metadata": {},
   "outputs": [
    {
     "name": "stdout",
     "output_type": "stream",
     "text": [
      "output  : [[-0.0367  0.1836 -0.029   0.2567  0.0085  0.2755  0.1043  0.2371]]\n",
      "ranking : [array([1., 5., 2., 7., 3., 8., 4., 6.])]\n",
      "y_label : [[0.    0.625 0.    0.375 0.    0.    0.    0.   ]]\n"
     ]
    }
   ],
   "source": [
    "# 静的モデルの性能評価\n",
    "rank = []\n",
    "for i in range(len(x_test_pred)):\n",
    "    rank.append(rankdata(x_test_pred[i]))\n",
    "print(\"output  : {}\".format(x_test_pred.round(4)))\n",
    "print(\"ranking : {}\".format(rank))\n",
    "print(\"y_label : {}\".format(y_test_w.round(4)))"
   ]
  },
  {
   "cell_type": "code",
   "execution_count": 13,
   "metadata": {},
   "outputs": [],
   "source": [
    "# 静的モデルのパラメータ保存\n",
    "with open('./model/static_model.pickle','wb') as f_static:\n",
    "    pickle.dump(ridge_static, f_static)"
   ]
  },
  {
   "cell_type": "markdown",
   "metadata": {},
   "source": [
    "------------------------------"
   ]
  },
  {
   "cell_type": "code",
   "execution_count": 14,
   "metadata": {},
   "outputs": [],
   "source": [
    "# 動的モデルデータセット\n",
    "x_train_din = np.hstack((x_train_pred, x_train_d[:,:2]))\n",
    "x_test_din  = np.hstack((x_test_pred, x_test_d[:,:2]))"
   ]
  },
  {
   "cell_type": "code",
   "execution_count": 35,
   "metadata": {},
   "outputs": [
    {
     "name": "stdout",
     "output_type": "stream",
     "text": [
      "3.0人に1人が満足度を感じるモデル性能\n",
      "0.3181818181818182\n"
     ]
    }
   ],
   "source": [
    "# 動的モデルの性能評価\n",
    "kf = KFold(n_splits=len(x_train_din), random_state=True, shuffle=True) # n_splits=len(x_train_din)\n",
    "predict = []\n",
    "score = []\n",
    "b = []\n",
    "for train_index, test_index in kf.split(x_train_din):\n",
    "    X_train, X_test = x_train_din[train_index], x_train_din[test_index]\n",
    "    y_train, y_test = y_train_din[train_index], y_train_din[test_index]\n",
    "    ridge_dynamic = RidgeClassifier().fit(X_train, np.argmax(y_train,axis=1))\n",
    "    b.append(ridge_dynamic.predict(X_train))\n",
    "    #predict.append(ridge2.predict(X_test))\n",
    "    score.append(ridge_dynamic.score(X_test,np.argmax(y_test, axis=1)))\n",
    "print(\"{}人に1人が満足度を感じるモデル性能\".format((1//np.mean(score))))\n",
    "print(np.mean(score))"
   ]
  },
  {
   "cell_type": "code",
   "execution_count": 16,
   "metadata": {},
   "outputs": [],
   "source": [
    "# 動的モデルのパラメータ保存\n",
    "ridge_dynamic = RidgeClassifier().fit(x_train_din, np.argmax(y_train_din,axis=1))\n",
    "with open('./model/dynamic_model.pickle','wb') as f_dynamic:\n",
    "    pickle.dump(ridge_dynamic, f_dynamic)"
   ]
  },
  {
   "cell_type": "markdown",
   "metadata": {},
   "source": [
    "# 遊びに行くメンバーのレコメンドモデルの提案"
   ]
  },
  {
   "cell_type": "markdown",
   "metadata": {},
   "source": [
    "## k-means(データ解析用)"
   ]
  },
  {
   "cell_type": "code",
   "execution_count": 101,
   "metadata": {},
   "outputs": [
    {
     "name": "stderr",
     "output_type": "stream",
     "text": [
      "/usr/local/lib/python3.6/dist-packages/sklearn/cluster/_kmeans.py:934: FutureWarning: 'precompute_distances' was deprecated in version 0.23 and will be removed in 0.25. It has no effect\n",
      "  \"effect\", FutureWarning)\n",
      "/usr/local/lib/python3.6/dist-packages/sklearn/cluster/_kmeans.py:939: FutureWarning: 'n_jobs' was deprecated in version 0.23 and will be removed in 0.25.\n",
      "  \" removed in 0.25.\", FutureWarning)\n"
     ]
    },
    {
     "data": {
      "text/plain": [
       "KMeans(n_clusters=3, n_jobs=1, precompute_distances='auto')"
      ]
     },
     "execution_count": 101,
     "metadata": {},
     "output_type": "execute_result"
    }
   ],
   "source": [
    "X = dg.df_human_info\n",
    "kmeans = KMeans(n_clusters=3, init='k-means++', n_init=10, max_iter=300,\n",
    "         tol=0.0001,precompute_distances='auto', verbose=0,\n",
    "         random_state=None, copy_x=True, n_jobs=1)\n",
    "kmeans.fit(X)"
   ]
  },
  {
   "cell_type": "code",
   "execution_count": 102,
   "metadata": {},
   "outputs": [
    {
     "name": "stdout",
     "output_type": "stream",
     "text": [
      "[0 2 2 2 0 2 1 0 1 2 2 0 2 1 0 1 0 2 2 1 1 2 2 2 2 2 1 2 0 0 2 0 1 0 1 0 2\n",
      " 2 2 2 1 1 1 1 0]\n"
     ]
    }
   ],
   "source": [
    "print(kmeans.predict(X))\n",
    "results = pd.DataFrame({'classter': kmeans.predict(X)})"
   ]
  },
  {
   "cell_type": "code",
   "execution_count": 103,
   "metadata": {},
   "outputs": [],
   "source": [
    "df_classtor_stat = dg.df_human_info\n",
    "df_classtor_stat['label'] = results"
   ]
  },
  {
   "cell_type": "code",
   "execution_count": 104,
   "metadata": {},
   "outputs": [
    {
     "data": {
      "text/html": [
       "<div>\n",
       "<style scoped>\n",
       "    .dataframe tbody tr th:only-of-type {\n",
       "        vertical-align: middle;\n",
       "    }\n",
       "\n",
       "    .dataframe tbody tr th {\n",
       "        vertical-align: top;\n",
       "    }\n",
       "\n",
       "    .dataframe thead th {\n",
       "        text-align: right;\n",
       "    }\n",
       "</style>\n",
       "<table border=\"1\" class=\"dataframe\">\n",
       "  <thead>\n",
       "    <tr style=\"text-align: right;\">\n",
       "      <th></th>\n",
       "      <th>label</th>\n",
       "      <th>0.0</th>\n",
       "      <th>1.0</th>\n",
       "      <th>2.0</th>\n",
       "    </tr>\n",
       "  </thead>\n",
       "  <tbody>\n",
       "    <tr>\n",
       "      <th rowspan=\"4\" valign=\"top\">通常，自分から話を始めることはない</th>\n",
       "      <th>mean</th>\n",
       "      <td>2.090909</td>\n",
       "      <td>3.615385</td>\n",
       "      <td>2.000000</td>\n",
       "    </tr>\n",
       "    <tr>\n",
       "      <th>median</th>\n",
       "      <td>2.000000</td>\n",
       "      <td>3.000000</td>\n",
       "      <td>2.000000</td>\n",
       "    </tr>\n",
       "    <tr>\n",
       "      <th>var</th>\n",
       "      <td>1.690909</td>\n",
       "      <td>1.256410</td>\n",
       "      <td>1.473684</td>\n",
       "    </tr>\n",
       "    <tr>\n",
       "      <th>std</th>\n",
       "      <td>1.300350</td>\n",
       "      <td>1.120897</td>\n",
       "      <td>1.213954</td>\n",
       "    </tr>\n",
       "    <tr>\n",
       "      <th rowspan=\"4\" valign=\"top\">どちらかというと控えめで，静かな性格である</th>\n",
       "      <th>mean</th>\n",
       "      <td>1.272727</td>\n",
       "      <td>3.692308</td>\n",
       "      <td>3.500000</td>\n",
       "    </tr>\n",
       "    <tr>\n",
       "      <th>median</th>\n",
       "      <td>1.000000</td>\n",
       "      <td>4.000000</td>\n",
       "      <td>4.000000</td>\n",
       "    </tr>\n",
       "    <tr>\n",
       "      <th>var</th>\n",
       "      <td>1.818182</td>\n",
       "      <td>0.730769</td>\n",
       "      <td>1.105263</td>\n",
       "    </tr>\n",
       "    <tr>\n",
       "      <th>std</th>\n",
       "      <td>1.348400</td>\n",
       "      <td>0.854850</td>\n",
       "      <td>1.051315</td>\n",
       "    </tr>\n",
       "    <tr>\n",
       "      <th rowspan=\"4\" valign=\"top\">深く考えるより，すぐに行動したい</th>\n",
       "      <th>mean</th>\n",
       "      <td>4.000000</td>\n",
       "      <td>4.000000</td>\n",
       "      <td>2.150000</td>\n",
       "    </tr>\n",
       "    <tr>\n",
       "      <th>median</th>\n",
       "      <td>4.000000</td>\n",
       "      <td>4.000000</td>\n",
       "      <td>2.000000</td>\n",
       "    </tr>\n",
       "    <tr>\n",
       "      <th>var</th>\n",
       "      <td>0.600000</td>\n",
       "      <td>0.833333</td>\n",
       "      <td>1.081579</td>\n",
       "    </tr>\n",
       "    <tr>\n",
       "      <th>std</th>\n",
       "      <td>0.774597</td>\n",
       "      <td>0.912871</td>\n",
       "      <td>1.039990</td>\n",
       "    </tr>\n",
       "    <tr>\n",
       "      <th rowspan=\"4\" valign=\"top\">リーダーとして皆を引っ張っていきたい</th>\n",
       "      <th>mean</th>\n",
       "      <td>2.181818</td>\n",
       "      <td>2.000000</td>\n",
       "      <td>1.550000</td>\n",
       "    </tr>\n",
       "    <tr>\n",
       "      <th>median</th>\n",
       "      <td>2.000000</td>\n",
       "      <td>2.000000</td>\n",
       "      <td>1.000000</td>\n",
       "    </tr>\n",
       "    <tr>\n",
       "      <th>var</th>\n",
       "      <td>2.563636</td>\n",
       "      <td>2.500000</td>\n",
       "      <td>2.155263</td>\n",
       "    </tr>\n",
       "    <tr>\n",
       "      <th>std</th>\n",
       "      <td>1.601136</td>\n",
       "      <td>1.581139</td>\n",
       "      <td>1.468081</td>\n",
       "    </tr>\n",
       "    <tr>\n",
       "      <th rowspan=\"4\" valign=\"top\">近くでイベントがあれば参加するほうだ</th>\n",
       "      <th>mean</th>\n",
       "      <td>2.090909</td>\n",
       "      <td>2.461538</td>\n",
       "      <td>2.450000</td>\n",
       "    </tr>\n",
       "    <tr>\n",
       "      <th>median</th>\n",
       "      <td>2.000000</td>\n",
       "      <td>3.000000</td>\n",
       "      <td>3.000000</td>\n",
       "    </tr>\n",
       "    <tr>\n",
       "      <th>var</th>\n",
       "      <td>2.690909</td>\n",
       "      <td>0.769231</td>\n",
       "      <td>0.892105</td>\n",
       "    </tr>\n",
       "    <tr>\n",
       "      <th>std</th>\n",
       "      <td>1.640399</td>\n",
       "      <td>0.877058</td>\n",
       "      <td>0.944513</td>\n",
       "    </tr>\n",
       "    <tr>\n",
       "      <th rowspan=\"4\" valign=\"top\">どちらかというと，開放的で，陽気なタイプだと思う</th>\n",
       "      <th>mean</th>\n",
       "      <td>2.454545</td>\n",
       "      <td>1.384615</td>\n",
       "      <td>2.050000</td>\n",
       "    </tr>\n",
       "    <tr>\n",
       "      <th>median</th>\n",
       "      <td>3.000000</td>\n",
       "      <td>1.000000</td>\n",
       "      <td>2.000000</td>\n",
       "    </tr>\n",
       "    <tr>\n",
       "      <th>var</th>\n",
       "      <td>2.872727</td>\n",
       "      <td>1.589744</td>\n",
       "      <td>1.102632</td>\n",
       "    </tr>\n",
       "    <tr>\n",
       "      <th>std</th>\n",
       "      <td>1.694912</td>\n",
       "      <td>1.260850</td>\n",
       "      <td>1.050063</td>\n",
       "    </tr>\n",
       "  </tbody>\n",
       "</table>\n",
       "</div>"
      ],
      "text/plain": [
       "label                                 0.0       1.0       2.0\n",
       "通常，自分から話を始めることはない        mean    2.090909  3.615385  2.000000\n",
       "                         median  2.000000  3.000000  2.000000\n",
       "                         var     1.690909  1.256410  1.473684\n",
       "                         std     1.300350  1.120897  1.213954\n",
       "どちらかというと控えめで，静かな性格である    mean    1.272727  3.692308  3.500000\n",
       "                         median  1.000000  4.000000  4.000000\n",
       "                         var     1.818182  0.730769  1.105263\n",
       "                         std     1.348400  0.854850  1.051315\n",
       "深く考えるより，すぐに行動したい         mean    4.000000  4.000000  2.150000\n",
       "                         median  4.000000  4.000000  2.000000\n",
       "                         var     0.600000  0.833333  1.081579\n",
       "                         std     0.774597  0.912871  1.039990\n",
       "リーダーとして皆を引っ張っていきたい       mean    2.181818  2.000000  1.550000\n",
       "                         median  2.000000  2.000000  1.000000\n",
       "                         var     2.563636  2.500000  2.155263\n",
       "                         std     1.601136  1.581139  1.468081\n",
       "近くでイベントがあれば参加するほうだ       mean    2.090909  2.461538  2.450000\n",
       "                         median  2.000000  3.000000  3.000000\n",
       "                         var     2.690909  0.769231  0.892105\n",
       "                         std     1.640399  0.877058  0.944513\n",
       "どちらかというと，開放的で，陽気なタイプだと思う mean    2.454545  1.384615  2.050000\n",
       "                         median  3.000000  1.000000  2.000000\n",
       "                         var     2.872727  1.589744  1.102632\n",
       "                         std     1.694912  1.260850  1.050063"
      ]
     },
     "execution_count": 104,
     "metadata": {},
     "output_type": "execute_result"
    }
   ],
   "source": [
    "df_classtor_stat.groupby('label').agg([np.mean, np.median, np.var, np.std]).T"
   ]
  },
  {
   "cell_type": "markdown",
   "metadata": {},
   "source": [
    "## T-SNE(データ解析用)"
   ]
  },
  {
   "cell_type": "code",
   "execution_count": 107,
   "metadata": {},
   "outputs": [
    {
     "name": "stdout",
     "output_type": "stream",
     "text": [
      "(45, 3)\n"
     ]
    }
   ],
   "source": [
    "X = dg.df_human_info\n",
    "tsne = TSNE(n_components=3, perplexity=5,).fit_transform(X.iloc[:,[0,1,2]])\n",
    "print(tsne.shape)"
   ]
  },
  {
   "cell_type": "code",
   "execution_count": 96,
   "metadata": {},
   "outputs": [
    {
     "data": {
      "text/plain": [
       "<matplotlib.collections.PathCollection at 0x7fc43810e9e8>"
      ]
     },
     "execution_count": 96,
     "metadata": {},
     "output_type": "execute_result"
    },
    {
     "data": {
      "image/png": "[encoded data removed]",
      "text/plain": [
       "<Figure size 432x288 with 1 Axes>"
      ]
     },
     "metadata": {
      "needs_background": "light"
     },
     "output_type": "display_data"
    }
   ],
   "source": [
    "plt.scatter(tsne[:,0],tsne[:,1])"
   ]
  },
  {
   "cell_type": "code",
   "execution_count": 108,
   "metadata": {},
   "outputs": [
    {
     "data": {
      "text/plain": [
       "<mpl_toolkits.mplot3d.art3d.Path3DCollection at 0x7fc4317cda90>"
      ]
     },
     "execution_count": 108,
     "metadata": {},
     "output_type": "execute_result"
    },
    {
     "data": {
      "image/png": "[encoded data removed]",
      "text/plain": [
       "<Figure size 432x288 with 1 Axes>"
      ]
     },
     "metadata": {
      "needs_background": "light"
     },
     "output_type": "display_data"
    }
   ],
   "source": [
    "# 3D可視化\n",
    "fig = plt.figure()\n",
    "ax = fig.add_subplot(111, projection='3d')\n",
    "ax.scatter(xs=tsne[:,0], ys=tsne[:,1], zs=tsne[:,2], zdir='z', s=50, c=None, depthshade=True)"
   ]
  },
  {
   "cell_type": "code",
   "execution_count": 116,
   "metadata": {},
   "outputs": [
    {
     "data": {
      "image/png": "[encoded data removed]",
      "text/plain": [
       "<Figure size 432x288 with 1 Axes>"
      ]
     },
     "metadata": {
      "needs_background": "light"
     },
     "output_type": "display_data"
    }
   ],
   "source": [
    "# 3D可視化\n",
    "fig = plt.figure()\n",
    "ax = Axes3D(fig)\n",
    "ax.scatter(xs=X.iloc[:,0], ys=X.iloc[:,1], zs=X.iloc[:,2], zdir='z', s=50, c=None, depthshade=True)\n",
    "plt.show()"
   ]
  },
  {
   "cell_type": "markdown",
   "metadata": {},
   "source": [
    "k-meansの結果から，dg.df_human_info(性格診断データ)の\\[ 0, 1, 2, 5 \\]のデータのみで友達レコメンドができそうな事がわかった．"
   ]
  },
  {
   "cell_type": "markdown",
   "metadata": {},
   "source": [
    "## 遊びに行くメンバーのレコメンドモデルの提案"
   ]
  },
  {
   "cell_type": "markdown",
   "metadata": {},
   "source": [
    "### データの整理"
   ]
  },
  {
   "cell_type": "code",
   "execution_count": 14,
   "metadata": {},
   "outputs": [
    {
     "name": "stderr",
     "output_type": "stream",
     "text": [
      "/usr/local/lib/python3.6/dist-packages/ipykernel_launcher.py:2: SettingWithCopyWarning: \n",
      "A value is trying to be set on a copy of a slice from a DataFrame.\n",
      "Try using .loc[row_indexer,col_indexer] = value instead\n",
      "\n",
      "See the caveats in the documentation: https://pandas.pydata.org/pandas-docs/stable/user_guide/indexing.html#returning-a-view-versus-a-copy\n",
      "  \n"
     ]
    }
   ],
   "source": [
    "data = dg.df_human_info.iloc[:,[0,1,2,5]]\n",
    "data[\"ID\"] = range(len(data))\n",
    "data = data.values"
   ]
  },
  {
   "cell_type": "code",
   "execution_count": 15,
   "metadata": {},
   "outputs": [],
   "source": [
    "rows = len(data[:])\n",
    "train = data[:rows - 1]\n",
    "test  = data[rows - 1:]"
   ]
  },
  {
   "cell_type": "markdown",
   "metadata": {},
   "source": [
    "### プロットの距離(ユークリッド距離)とベクトルの類似度(コサイン類似度)の計算"
   ]
  },
  {
   "cell_type": "code",
   "execution_count": 16,
   "metadata": {},
   "outputs": [],
   "source": [
    "euclid = np.zeros((len(train[:]),2))\n",
    "cos_simi = np.zeros((len(train[:]),2))\n",
    "for i in range(len(train[:])):\n",
    "    euclid[i,0] = np.linalg.norm(train[i,:4]-test[0,:4])\n",
    "    euclid[i,1] = train[i,4]\n",
    "    cos_simi[i,0] = cosine_similarity(train[i:i+1,:4],test[0:1,:4]) \n",
    "    cos_simi[i,1] = train[i,4]"
   ]
  },
  {
   "cell_type": "markdown",
   "metadata": {},
   "source": [
    "### 評価値の算出"
   ]
  },
  {
   "cell_type": "markdown",
   "metadata": {},
   "source": [
    "ユークリッド距離は，値が0に近いほどプロット間の距離が近い(最適)とされており，コサイン類似度は，値が1に近いほどプロットのベクトルが類似している(最適)とされている．  \n",
    "したがって，正規化したコサイン類似度の値から，正規化したユークリッド距離の値を引くことで，プロット間の距離とプロットのベクトルの類似度を考慮した値を導出することが可能である(はず)．"
   ]
  },
  {
   "cell_type": "code",
   "execution_count": 17,
   "metadata": {},
   "outputs": [],
   "source": [
    "mm = MinMaxScaler()\n",
    "\n",
    "mm.fit(euclid[:,0].reshape(len(euclid[:,0]),1))\n",
    "euclid[:,0:1] = mm.transform(euclid[:,0].reshape(len(euclid[:,0]),1))\n",
    "\n",
    "mm.fit(cos_simi[:,0].reshape(len(cos_simi[:,0]),1))\n",
    "cos_simi[:,0:1] = mm.transform(cos_simi[:,0].reshape(len(cos_simi[:,0]),1))"
   ]
  },
  {
   "cell_type": "code",
   "execution_count": 18,
   "metadata": {},
   "outputs": [],
   "source": [
    "eval_val = euclid\n",
    "eval_val[:,0] = cos_simi[:,0]-euclid[:,0]\n",
    "eval_val[:,1] = cos_simi[:,1]\n",
    "eval_sort = eval_val[eval_val[:,0].argsort(),:][::-1].round(4)"
   ]
  },
  {
   "cell_type": "code",
   "execution_count": 19,
   "metadata": {},
   "outputs": [
    {
     "data": {
      "text/plain": [
       "{'ID0': 40, 'ID1': 30, 'ID2': 0, 'ID3': 18, 'ID4': 41}"
      ]
     },
     "execution_count": 19,
     "metadata": {},
     "output_type": "execute_result"
    }
   ],
   "source": [
    "dict(ID0=int(eval_sort[0,1]),\n",
    "     ID1=int(eval_sort[1,1]),\n",
    "     ID2=int(eval_sort[2,1]),\n",
    "     ID3=int(eval_sort[3,1]),\n",
    "     ID4=int(eval_sort[4,1]))"
   ]
  },
  {
   "cell_type": "markdown",
   "metadata": {},
   "source": [
    "# 不採択になったモデル"
   ]
  },
  {
   "cell_type": "markdown",
   "metadata": {},
   "source": [
    "## MLP"
   ]
  },
  {
   "cell_type": "markdown",
   "metadata": {},
   "source": [
    "### モデルの実装"
   ]
  },
  {
   "cell_type": "code",
   "execution_count": 25,
   "metadata": {},
   "outputs": [
    {
     "name": "stdout",
     "output_type": "stream",
     "text": [
      "Epoch 1/20\n",
      "10/10 [==============================] - 0s 15ms/step - loss: 0.1748 - mean_squared_error: 0.1740 - val_loss: 0.1617 - val_mean_squared_error: 0.1637\n",
      "Epoch 2/20\n",
      "10/10 [==============================] - 0s 4ms/step - loss: 0.1730 - mean_squared_error: 0.1730 - val_loss: 0.1600 - val_mean_squared_error: 0.1620\n",
      "Epoch 3/20\n",
      "10/10 [==============================] - 0s 4ms/step - loss: 0.1713 - mean_squared_error: 0.1722 - val_loss: 0.1583 - val_mean_squared_error: 0.1603\n",
      "Epoch 4/20\n",
      "10/10 [==============================] - 0s 4ms/step - loss: 0.1696 - mean_squared_error: 0.1692 - val_loss: 0.1566 - val_mean_squared_error: 0.1585\n",
      "Epoch 5/20\n",
      "10/10 [==============================] - 0s 4ms/step - loss: 0.1679 - mean_squared_error: 0.1677 - val_loss: 0.1550 - val_mean_squared_error: 0.1569\n",
      "Epoch 6/20\n",
      "10/10 [==============================] - 0s 4ms/step - loss: 0.1663 - mean_squared_error: 0.1664 - val_loss: 0.1535 - val_mean_squared_error: 0.1553\n",
      "Epoch 7/20\n",
      "10/10 [==============================] - 0s 4ms/step - loss: 0.1648 - mean_squared_error: 0.1642 - val_loss: 0.1519 - val_mean_squared_error: 0.1537\n",
      "Epoch 8/20\n",
      "10/10 [==============================] - 0s 4ms/step - loss: 0.1633 - mean_squared_error: 0.1633 - val_loss: 0.1504 - val_mean_squared_error: 0.1521\n",
      "Epoch 9/20\n",
      "10/10 [==============================] - 0s 4ms/step - loss: 0.1617 - mean_squared_error: 0.1616 - val_loss: 0.1490 - val_mean_squared_error: 0.1506\n",
      "Epoch 10/20\n",
      "10/10 [==============================] - 0s 4ms/step - loss: 0.1603 - mean_squared_error: 0.1606 - val_loss: 0.1476 - val_mean_squared_error: 0.1492\n",
      "Epoch 11/20\n",
      "10/10 [==============================] - 0s 4ms/step - loss: 0.1589 - mean_squared_error: 0.1584 - val_loss: 0.1462 - val_mean_squared_error: 0.1478\n",
      "Epoch 12/20\n",
      "10/10 [==============================] - 0s 4ms/step - loss: 0.1575 - mean_squared_error: 0.1576 - val_loss: 0.1448 - val_mean_squared_error: 0.1464\n",
      "Epoch 13/20\n",
      "10/10 [==============================] - 0s 4ms/step - loss: 0.1561 - mean_squared_error: 0.1561 - val_loss: 0.1435 - val_mean_squared_error: 0.1451\n",
      "Epoch 14/20\n",
      "10/10 [==============================] - 0s 4ms/step - loss: 0.1548 - mean_squared_error: 0.1555 - val_loss: 0.1423 - val_mean_squared_error: 0.1438\n",
      "Epoch 15/20\n",
      "10/10 [==============================] - 0s 4ms/step - loss: 0.1536 - mean_squared_error: 0.1540 - val_loss: 0.1410 - val_mean_squared_error: 0.1425\n",
      "Epoch 16/20\n",
      "10/10 [==============================] - 0s 4ms/step - loss: 0.1523 - mean_squared_error: 0.1521 - val_loss: 0.1398 - val_mean_squared_error: 0.1413\n",
      "Epoch 17/20\n",
      "10/10 [==============================] - 0s 4ms/step - loss: 0.1511 - mean_squared_error: 0.1509 - val_loss: 0.1387 - val_mean_squared_error: 0.1402\n",
      "Epoch 18/20\n",
      "10/10 [==============================] - 0s 4ms/step - loss: 0.1499 - mean_squared_error: 0.1498 - val_loss: 0.1375 - val_mean_squared_error: 0.1389\n",
      "Epoch 19/20\n",
      "10/10 [==============================] - 0s 4ms/step - loss: 0.1487 - mean_squared_error: 0.1494 - val_loss: 0.1364 - val_mean_squared_error: 0.1378\n",
      "Epoch 20/20\n",
      "10/10 [==============================] - 0s 4ms/step - loss: 0.1477 - mean_squared_error: 0.1473 - val_loss: 0.1354 - val_mean_squared_error: 0.1368\n",
      "2/2 [==============================] - 0s 2ms/step - loss: 0.1354 - mean_squared_error: 0.1368\n"
     ]
    }
   ],
   "source": [
    "def create_model():\n",
    "    inputs = layers.Input((8,))\n",
    "    x = layers.Dense(2, activation=\"sigmoid\")(inputs)\n",
    "    x = layers.Dense(8, activation=\"sigmoid\")(x)\n",
    "    return tf.keras.models.Model(inputs=inputs, outputs=x)\n",
    "\n",
    "def main():    \n",
    "    model = create_model()\n",
    "    loss = tf.keras.losses.MeanSquaredError()\n",
    "    acc = tf.keras.losses.MeanSquaredError()\n",
    "    optim = tf.keras.optimizers.Adam()\n",
    "\n",
    "    # train\n",
    "    model.compile(optimizer=optim, loss=loss, metrics=[acc])\n",
    "    model.fit(x_train_w, y_train_w, validation_data=(x_test_w, y_test_w), epochs=20, batch_size=4)\n",
    "\n",
    "    # eval\n",
    "    val_loss, val_acc = model.evaluate(x_test_w, y_test_w, batch_size=4)\n",
    "    \n",
    "    return model \n",
    "\n",
    "if __name__ == \"__main__\":\n",
    "    model = main()"
   ]
  },
  {
   "cell_type": "markdown",
   "metadata": {},
   "source": [
    "### 結果の確認"
   ]
  },
  {
   "cell_type": "code",
   "execution_count": 26,
   "metadata": {},
   "outputs": [],
   "source": [
    "raw = 0"
   ]
  },
  {
   "cell_type": "code",
   "execution_count": 27,
   "metadata": {},
   "outputs": [
    {
     "name": "stdout",
     "output_type": "stream",
     "text": [
      "[[0.33778268 0.506331   0.48925483 0.4798966  0.28250325 0.47609758\n",
      "  0.4129015  0.35314476]]\n"
     ]
    }
   ],
   "source": [
    "print(model.predict(x_test_w[raw:raw+1,:]))"
   ]
  },
  {
   "cell_type": "code",
   "execution_count": 28,
   "metadata": {},
   "outputs": [
    {
     "name": "stdout",
     "output_type": "stream",
     "text": [
      "[0.  0.  0.4 0.  0.  0.7 1.  0. ]\n"
     ]
    }
   ],
   "source": [
    "print(y_test_w[raw,:])"
   ]
  },
  {
   "cell_type": "markdown",
   "metadata": {},
   "source": [
    "## ランダムフォレスト"
   ]
  },
  {
   "cell_type": "code",
   "execution_count": 112,
   "metadata": {},
   "outputs": [],
   "source": [
    "clf = RandomForestClassifier(max_depth=4, random_state=0)"
   ]
  },
  {
   "cell_type": "code",
   "execution_count": 113,
   "metadata": {},
   "outputs": [],
   "source": [
    "a = []\n",
    "b = []\n",
    "for i in range(len(y_train_din)):\n",
    "    a.append(np.str(y_train_din[i]))\n",
    "for j in range(len(y_test_din)):\n",
    "    b.append(np.str(y_test_din[j]))"
   ]
  },
  {
   "cell_type": "code",
   "execution_count": 114,
   "metadata": {},
   "outputs": [
    {
     "data": {
      "text/plain": [
       "RandomForestClassifier(max_depth=4, random_state=0)"
      ]
     },
     "execution_count": 114,
     "metadata": {},
     "output_type": "execute_result"
    }
   ],
   "source": [
    "# original\n",
    "clf.fit(x_train_din, a)\n",
    "\n",
    "# pca\n",
    "#clf.fit(x_train_pca,y_train)"
   ]
  },
  {
   "cell_type": "code",
   "execution_count": 115,
   "metadata": {},
   "outputs": [
    {
     "name": "stdout",
     "output_type": "stream",
     "text": [
      "[0.03351504 0.07109923 0.04766469 0.05584132 0.         0.12373967\n",
      " 0.0997709  0.02889126 0.18324612 0.20232368 0.15390808]\n"
     ]
    }
   ],
   "source": [
    "print(clf.feature_importances_)"
   ]
  },
  {
   "cell_type": "code",
   "execution_count": 116,
   "metadata": {},
   "outputs": [
    {
     "data": {
      "text/plain": [
       "['アウトドア（マリンスポーツ・釣り・BBQ・登山・ハイキングなど）',\n",
       " 'エンタメ（ボウリング場・カラオケ・ゲームセンターなど）',\n",
       " 'スポーツ（ボルダリング・ゴルフ・サイクリング・ジム・ヨガなど）',\n",
       " '観光（観光名所巡り・日帰り温泉・食べ歩きなど）',\n",
       " '遊園地・動物園・水族館・海水浴場',\n",
       " '友達との飲み会（外飲み・飲み歩きなど）',\n",
       " '外での買い物（アウトレットなど）',\n",
       " 'ショー・展示・催し（映画館・ミュージカル・博物館・美術館など）',\n",
       " 'なし']"
      ]
     },
     "execution_count": 116,
     "metadata": {},
     "output_type": "execute_result"
    }
   ],
   "source": [
    "dg.GENRE_LIST"
   ]
  },
  {
   "cell_type": "code",
   "execution_count": 117,
   "metadata": {},
   "outputs": [
    {
     "data": {
      "text/plain": [
       "array(['[0 0 0 0 0 0 0 1]', '[0 0 0 0 0 0 1 0]', '[0 0 0 0 0 1 0 0]',\n",
       "       '[0 0 0 1 0 0 0 0]', '[0 0 1 0 0 0 0 0]', '[0 1 0 0 0 0 0 0]',\n",
       "       '[1 0 0 0 0 0 0 0]'], dtype='<U17')"
      ]
     },
     "execution_count": 117,
     "metadata": {},
     "output_type": "execute_result"
    }
   ],
   "source": [
    "clf.classes_ "
   ]
  },
  {
   "cell_type": "code",
   "execution_count": 118,
   "metadata": {},
   "outputs": [
    {
     "name": "stdout",
     "output_type": "stream",
     "text": [
      "['[0 0 0 0 0 1 0 0]' '[0 0 0 0 0 0 1 0]' '[0 0 0 1 0 0 0 0]'\n",
      " '[0 0 0 0 0 1 0 0]' '[0 0 0 0 0 1 0 0]']\n",
      "0.0\n"
     ]
    }
   ],
   "source": [
    "# original\n",
    "print(clf.predict(x_test_din))\n",
    "print(clf.score(x_test_din, b))\n",
    "\n",
    "# pca\n",
    "#clf.score(x_test_pca,y_test)"
   ]
  },
  {
   "cell_type": "markdown",
   "metadata": {},
   "source": [
    "## 主成分分析(データ解析用)"
   ]
  },
  {
   "cell_type": "code",
   "execution_count": 10,
   "metadata": {},
   "outputs": [
    {
     "data": {
      "text/plain": [
       "0.7081007695172404"
      ]
     },
     "execution_count": 10,
     "metadata": {},
     "output_type": "execute_result"
    }
   ],
   "source": [
    "X = dg.df_human_info\n",
    "X = scale(X, axis=0)\n",
    "pca = PCA(n_components=3)\n",
    "pca.fit(X)\n",
    "x_pca = pca.transform(X)\n",
    "sum(pca.explained_variance_ratio_)"
   ]
  },
  {
   "cell_type": "code",
   "execution_count": 11,
   "metadata": {},
   "outputs": [
    {
     "data": {
      "text/plain": [
       "<matplotlib.collections.PathCollection at 0x7f68445c9518>"
      ]
     },
     "execution_count": 11,
     "metadata": {},
     "output_type": "execute_result"
    },
    {
     "data": {
      "image/png": "[encoded data removed]",
      "text/plain": [
       "<Figure size 432x288 with 1 Axes>"
      ]
     },
     "metadata": {
      "needs_background": "light"
     },
     "output_type": "display_data"
    }
   ],
   "source": [
    "plt.scatter(x_pca[:,1],x_pca[:,2])"
   ]
  },
  {
   "cell_type": "code",
   "execution_count": 12,
   "metadata": {},
   "outputs": [
    {
     "data": {
      "text/plain": [
       "<mpl_toolkits.mplot3d.art3d.Path3DCollection at 0x7f68445f7390>"
      ]
     },
     "execution_count": 12,
     "metadata": {},
     "output_type": "execute_result"
    },
    {
     "data": {
      "image/png": "[encoded data removed]",
      "text/plain": [
       "<Figure size 432x288 with 1 Axes>"
      ]
     },
     "metadata": {
      "needs_background": "light"
     },
     "output_type": "display_data"
    }
   ],
   "source": [
    "# 3D可視化\n",
    "fig = plt.figure()\n",
    "ax = fig.add_subplot(111, projection='3d')\n",
    "ax.scatter(xs=x_pca[:,0], ys=x_pca[:,1], zs=x_pca[:,2], zdir='z', s=50, c=None, depthshade=True)"
   ]
  }
 ],
 "metadata": {
  "kernelspec": {
   "display_name": "Python 3",
   "language": "python",
   "name": "python3"
  },
  "language_info": {
   "codemirror_mode": {
    "name": "ipython",
    "version": 3
   },
   "file_extension": ".py",
   "mimetype": "text/x-python",
   "name": "python",
   "nbconvert_exporter": "python",
   "pygments_lexer": "ipython3",
   "version": "3.6.9"
  },
  "toc-autonumbering": true
 },
 "nbformat": 4,
 "nbformat_minor": 4
}
